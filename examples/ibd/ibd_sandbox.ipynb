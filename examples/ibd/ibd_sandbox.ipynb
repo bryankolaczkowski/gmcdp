{
  "nbformat": 4,
  "nbformat_minor": 0,
  "metadata": {
    "colab": {
      "name": "ibd_sandbox.ipynb",
      "provenance": [],
      "authorship_tag": "ABX9TyNg8RTk76AaZjs1ThMoZBss",
      "include_colab_link": true
    },
    "kernelspec": {
      "name": "python3",
      "display_name": "Python 3"
    },
    "language_info": {
      "name": "python"
    }
  },
  "cells": [
    {
      "cell_type": "markdown",
      "metadata": {
        "id": "view-in-github",
        "colab_type": "text"
      },
      "source": [
        "<a href=\"https://colab.research.google.com/github/bryankolaczkowski/gmcdp/blob/main/examples/ibd/ibd_sandbox.ipynb\" target=\"_parent\"><img src=\"https://colab.research.google.com/assets/colab-badge.svg\" alt=\"Open In Colab\"/></a>"
      ]
    },
    {
      "cell_type": "markdown",
      "metadata": {
        "id": "oMdqJZgYHSPM"
      },
      "source": [
        "read csv data..."
      ]
    },
    {
      "cell_type": "code",
      "metadata": {
        "id": "gZhth2DFFBve"
      },
      "source": [
        "import pandas as pd\n",
        "\n",
        "df = pd.read_csv(\"https://raw.githubusercontent.com/bryankolaczkowski/gmcdp/main/examples/ibd/data_normalized.csv\")\n",
        "df.head()"
      ],
      "execution_count": null,
      "outputs": []
    },
    {
      "cell_type": "markdown",
      "metadata": {
        "id": "tSbMeAYgHPrW"
      },
      "source": [
        "extract ASV data to numpy..."
      ]
    },
    {
      "cell_type": "code",
      "metadata": {
        "id": "R9WuzsacGNTu"
      },
      "source": [
        "asvs = [ x for x in df.columns if x.find('ASV_') == 0]\n",
        "x = df[asvs].to_numpy()\n",
        "x.shape"
      ],
      "execution_count": null,
      "outputs": []
    },
    {
      "cell_type": "markdown",
      "metadata": {
        "id": "jIdLTYg9HVFt"
      },
      "source": [
        "extract disease state data..."
      ]
    },
    {
      "cell_type": "code",
      "metadata": {
        "id": "DnlzuttwHOni"
      },
      "source": [
        "y = df[['Group']]\n",
        "y.head()"
      ],
      "execution_count": null,
      "outputs": []
    }
  ]
}